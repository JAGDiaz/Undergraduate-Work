{
 "cells": [
  {
   "cell_type": "code",
   "execution_count": 27,
   "metadata": {
    "collapsed": true
   },
   "outputs": [],
   "source": [
    "import numpy as np\n",
    "import matplotlib.pyplot as plt\n",
    "from scipy.optimize import newton"
   ]
  },
  {
   "cell_type": "code",
   "execution_count": 28,
   "outputs": [],
   "source": [
    "def f(ex):\n",
    "    return 100 * (ex[1] - ex[0] ** 2) ** 2 + (1 - ex[0]) ** 2\n",
    "\n",
    "def get_grad(func, ex, dh=1e-8):\n",
    "    \"\"\"\n",
    "    This function computes the numerical gradient of a function of\n",
    "    multiple variables using a difference quotient schema.\n",
    "    :param func:\n",
    "    :param ex:\n",
    "    :param dh:\n",
    "    :return:\n",
    "    \"\"\"\n",
    "    x_mat = np.repeat([ex], repeats=ex.size, axis=0)\n",
    "    off = dh * np.eye(ex.size)\n",
    "    x_minus = x_mat - off\n",
    "    x_plus = x_mat + off\n",
    "    backward_diff = np.fromiter(map(func, x_minus), dtype=ex.dtype)\n",
    "    forward_diff = np.fromiter(map(func, x_plus), dtype=ex.dtype)\n",
    "    return (forward_diff - backward_diff) / (2 * dh)\n",
    "\n",
    "def hermite_cubic(a_prev, a_curr, func, dfunc):\n",
    "    a_diff = a_curr - a_prev\n",
    "    return lambda alpha: (1 + (alpha - a_prev) / a_diff) * ((a_curr - alpha) / a_diff) ** 2 * func(a_prev) + \\\n",
    "                         (1 + 2 * (a_curr - alpha) / a_diff) * ((alpha - a_prev) / a_diff) ** 2 \\\n",
    "                         * func(a_curr) + (alpha - a_prev) * ((a_curr - alpha) / a_diff) ** 2 * \\\n",
    "                         dfunc(a_prev) + (alpha - a_curr) * ((alpha - a_prev) / a_diff) ** 2 * \\\n",
    "                         dfunc(a_curr)\n",
    "\n",
    "\n",
    "def hermite_min(a_prev, a_curr, func, d_func):\n",
    "    phi_prev, phi_curr = func(a_prev), func(a_curr)\n",
    "    phi_p_prev, phi_p_curr = d_func(a_prev), d_func(a_curr)\n",
    "    d_1 = phi_p_prev + phi_p_curr - 3*(phi_prev- phi_curr)/(a_prev-a_curr)\n",
    "    d_2 = np.sign(a_curr - a_prev)*np.sqrt(d_1**2 - phi_p_prev*phi_p_curr)\n",
    "    return a_curr - (a_curr - a_prev)*(phi_p_curr + d_2 - d_1)/\\\n",
    "           (phi_p_curr - phi_p_prev + 2*d_2)\n",
    "\n",
    "\n",
    "def phi_maker(ex, pea):\n",
    "    return lambda alpha: f(ex + alpha * pea)\n",
    "\n",
    "def prime_maker(func, delta=1e-8):\n",
    "    return lambda alpha: (func(alpha + delta) - func(alpha - delta)) / (2 * delta)\n",
    "\n",
    "\n",
    "def one_d_newton(x_low, x_high, func, d_func, tolerance=1e-8):\n",
    "    x = (x_low + x_high) / 2\n",
    "    while np.abs(func(x)) > tolerance and x_low < x < x_high:\n",
    "        x -= func(x) / d_func(x)\n",
    "    return x\n",
    "\n",
    "\n",
    "def QC_interpolate(a_low, a_high, c_1, func, dfunc, tolerance=1e-6):\n",
    "    phi_high = func(a_high)\n",
    "    phi_low = func(a_low)\n",
    "    phi_p_low = dfunc(a_low)\n",
    "    if phi_high - phi_low - a_high * phi_p_low < tolerance:\n",
    "        a_new = -.5 * ((a_high ** 2) * phi_p_low) / tolerance\n",
    "    else:\n",
    "        a_new = -.5 * ((a_high ** 2) * phi_p_low) / (phi_high - phi_low - a_high * phi_p_low)\n",
    "    phi_a_new = func(a_new)\n",
    "    if phi_a_new <= phi_low + c_1 * a_new * phi_p_low:\n",
    "        return a_new\n",
    "    while True:\n",
    "        # print(\"Right here, Chief.\")\n",
    "        phi_high = func(a_high)\n",
    "        a_b = np.array([[a_high ** 2, -a_new ** 2], [-a_high ** 3, a_new ** 3]]) @ \\\n",
    "              np.array([phi_a_new - phi_low - a_new * phi_p_low, phi_high - phi_low - a_high * phi_p_low]) / \\\n",
    "              ((a_high * a_new) ** 2 * (a_high - a_low))\n",
    "        a_high = a_new\n",
    "        a_new = (-a_b[1] + np.sqrt(a_b[1] ** 2 - 3 * a_b[0] * phi_p_low)) / (3 * a_b[0])\n",
    "        phi_a_new = func(a_new)\n",
    "        if phi_a_new <= phi_low + c_1 * a_new * phi_p_low:\n",
    "            return a_new\n",
    "        elif np.abs(a_high - a_new) < tolerance or np.abs(a_new) < tolerance:\n",
    "            a_new /= 2\n",
    "\n",
    "\n",
    "def double_prime_maker(func, delta=1e-8):\n",
    "    return lambda t: (func(t) - 2*func(t - delta) + func(t - 2*delta))/delta**2\n",
    "\n",
    "\n",
    "def bisection(a_low, a_high, func, tolerance=1e-8):\n",
    "    while np.abs(a_high - a_low) > tolerance:\n",
    "        m = .5 * (a_low + a_high)\n",
    "        if np.sign(func(m)) != np.sign(func(a_high)):\n",
    "            a_low = m\n",
    "        else:\n",
    "            a_high = m\n",
    "    return .5 * (a_low + a_high)\n",
    "\n",
    "\n",
    "def hermite_interpolate(a_low, a_high, func, dfunc, c_1=1e-4, c_2=.9):\n",
    "    if np.abs(a_low - a_high) < 1e-8:\n",
    "        return a_high\n",
    "    interpol = hermite_cubic(a_low, a_high, func, dfunc)\n",
    "    a_new = bisection(a_low, a_high, prime_maker(interpol))\n",
    "    if a_low <= a_new <= a_high:\n",
    "        print(\"Chillin'.\")\n",
    "    else:\n",
    "        print(\"Not chillin'...\")\n",
    "    if np.abs(dfunc(a_new)) <= -c_2 * dfunc(0):\n",
    "        return a_new\n",
    "    if func(a_new) > func(0) + c_1 * a_new * dfunc(0) or (func(a_new) >= func(a_low)):\n",
    "        return hermite_interpolate(a_low, a_new, func, dfunc)\n",
    "    else:\n",
    "        return hermite_interpolate(a_new, a_high, func, dfunc)\n",
    "\n",
    "\n",
    "def bisection(a_low, a_high, func, tolerance=1e-8):\n",
    "    \"\"\"\n",
    "    A simple bisection method to numerically find the root\n",
    "    of a function in a given interval.\n",
    "    :param a_low:\n",
    "    Left most endpoint of interval.\n",
    "    :param a_high:\n",
    "    Right most endpoint of interval.\n",
    "    :param func:\n",
    "    The function whose root we want to find.\n",
    "    :param tolerance:\n",
    "    The length of the shortest interval we want to consider.\n",
    "    :return:\n",
    "    An approximation of the root in [a_low, a_high].\n",
    "    \"\"\"\n",
    "    while np.abs(a_high - a_low) > tolerance:\n",
    "        m = .5 * (a_low + a_high)\n",
    "        if np.sign(func(m)) != np.sign(func(a_high)):\n",
    "            a_low = m\n",
    "        else:\n",
    "            a_high = m\n",
    "    return .5 * (a_low + a_high)\n",
    "\n",
    "\n",
    "def hermite_cubic(a_prev, a_curr, func, d_func):\n",
    "\n",
    "    a_diff = a_curr - a_prev if a_curr - a_prev > 1e-8 else 1e-8\n",
    "    return lambda alpha: (1 + (alpha - a_prev) / a_diff) * ((a_curr - alpha) / a_diff) ** 2 * func(a_prev) + \\\n",
    "                         (1 + 2 * (a_curr - alpha) / a_diff) * ((alpha - a_prev) / a_diff) ** 2 \\\n",
    "                         * func(a_curr) + (alpha - a_prev) * ((a_curr - alpha) / a_diff) ** 2 * \\\n",
    "                         d_func(a_prev) + (alpha - a_curr) * ((alpha - a_prev) / a_diff) ** 2 * \\\n",
    "                         d_func(a_curr)\n"
   ],
   "metadata": {
    "collapsed": false,
    "pycharm": {
     "name": "#%%\n"
    }
   }
  },
  {
   "cell_type": "code",
   "execution_count": 50,
   "outputs": [
    {
     "name": "stdout",
     "output_type": "stream",
     "text": [
      "0.0003122701257348508 0.0009098106579047689\n",
      "Hermite_min: 169.9179728476366 at -0.0007723349234481033,\n",
      "Bisection_min: 11.815737842557786 at 0.00031227468460731916\n"
     ]
    },
    {
     "data": {
      "text/plain": "<Figure size 432x288 with 1 Axes>",
      "image/png": "[encoded data removed]"
     },
     "metadata": {
      "needs_background": "light"
     },
     "output_type": "display_data"
    }
   ],
   "source": [
    "bounds = np.random.uniform(0,1e-3, size=(2, 1))\n",
    "a_low = bounds.min()\n",
    "a_high = bounds.max()\n",
    "print(a_low, a_high)\n",
    "x = np.array([1.2,1.2])\n",
    "p = get_grad(f, x)\n",
    "\n",
    "a_func = phi_maker(x, p)\n",
    "a_func_prime = prime_maker(a_func)\n",
    "\n",
    "interpol = hermite_cubic(a_low, a_high, a_func, a_func_prime)\n",
    "a_hermite = hermite_min(a_low, a_high, a_func, a_func_prime)\n",
    "inter_prime = prime_maker(interpol)\n",
    "#inter_double_prime = double_prime_maker(interpol)\n",
    "\n",
    "As = np.linspace(a_low, a_high, 101)\n",
    "\n",
    "plt.plot(As, np.log10(interpol(As)), '-k')\n",
    "#plt.plot(As, inter_prime(As), '-b')\n",
    "#a_min = newton(inter_prime, (a_low+a_high)*.5)\n",
    "a_min = bisection(a_low, a_high, inter_prime)\n",
    "plt.axvline(x=a_min, color='blue')\n",
    "plt.axvline(x=a_hermite, color='red')\n",
    "print(f\"Hermite_min: {interpol(a_hermite)} at {a_hermite},\\n\"\n",
    "      f\"Bisection_min: {interpol(a_min)} at {a_min}\")"
   ],
   "metadata": {
    "collapsed": false,
    "pycharm": {
     "name": "#%%\n"
    }
   }
  },
  {
   "cell_type": "code",
   "execution_count": 30,
   "outputs": [
    {
     "data": {
      "text/plain": "nan"
     },
     "execution_count": 30,
     "metadata": {},
     "output_type": "execute_result"
    }
   ],
   "source": [
    "np.abs(a_hermite - a_min)"
   ],
   "metadata": {
    "collapsed": false,
    "pycharm": {
     "name": "#%%\n"
    }
   }
  }
 ],
 "metadata": {
  "kernelspec": {
   "display_name": "Python 3",
   "language": "python",
   "name": "python3"
  },
  "language_info": {
   "codemirror_mode": {
    "name": "ipython",
    "version": 2
   },
   "file_extension": ".py",
   "mimetype": "text/x-python",
   "name": "python",
   "nbconvert_exporter": "python",
   "pygments_lexer": "ipython2",
   "version": "2.7.6"
  }
 },
 "nbformat": 4,
 "nbformat_minor": 0
}